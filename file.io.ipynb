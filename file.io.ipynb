{
 "cells": [
  {
   "cell_type": "markdown",
   "metadata": {},
   "source": [
    "File I/O\n",
    "----"
   ]
  },
  {
   "cell_type": "code",
   "execution_count": 2,
   "metadata": {},
   "outputs": [
    {
     "name": "stdout",
     "output_type": "stream",
     "text": [
      "hello world!\n"
     ]
    }
   ],
   "source": [
    "print(\"hello world!\")"
   ]
  },
  {
   "cell_type": "code",
   "execution_count": 3,
   "metadata": {},
   "outputs": [],
   "source": [
    "iliad_1 = \"\"\"Then thus the king: “Shall I my prize resign\n",
    "With tame content, and thou possess’d of thine?\n",
    "Great as thou art, and like a god in fight,\n",
    "Think not to rob me of a soldier’s right.\n",
    "At thy demand shall I restore the maid?\n",
    "First let the just equivalent be paid;\n",
    "Such as a king might ask; and let it be\n",
    "A treasure worthy her, and worthy me.\"\"\""
   ]
  },
  {
   "cell_type": "code",
   "execution_count": 4,
   "metadata": {},
   "outputs": [],
   "source": [
    "with open(\".iliad_1.txt\", \"w\") as f:\n",
    "    chars = f.write(iliad_1)"
   ]
  },
  {
   "cell_type": "code",
   "execution_count": 5,
   "metadata": {},
   "outputs": [],
   "source": [
    "next_lines = \"\"\"Or grant me this, or with a monarch’s claim\n",
    "This hand shall seize some other captive dame.\"\"\"\n",
    "\n",
    "filename = \"iliad_2\"\n",
    "\n",
    "with open(f\"./{filename}.txt\", \"w\") as f:\n",
    "    f.write(iliad_1 + \"\\n\" + next_lines)"
   ]
  },
  {
   "cell_type": "code",
   "execution_count": 7,
   "metadata": {},
   "outputs": [
    {
     "name": "stdout",
     "output_type": "stream",
     "text": [
      "Then thus the king: “Shall I my prize resign\n",
      "With tame content, and thou possess’d of thine?\n",
      "Great as thou art, and like a god in fight,\n",
      "Think not to rob me of a soldier’s right.\n",
      "At thy demand shall I restore the maid?\n",
      "First let the just equivalent be paid;\n",
      "Such as a king might ask; and let it be\n",
      "A treasure worthy her, and worthy me.\n",
      "Or grant me this, or with a monarch’s claim\n",
      "This hand shall seize some other captive dame.\n"
     ]
    }
   ],
   "source": [
    "with open(f\"./{filename}.txt\", \"r\") as f:\n",
    "    all_lines = f.read()\n",
    "\n",
    "print(all_lines)"
   ]
  },
  {
   "cell_type": "code",
   "execution_count": 8,
   "metadata": {},
   "outputs": [
    {
     "name": "stdout",
     "output_type": "stream",
     "text": [
      "['Then thus the king: “Shall I my prize resign', 'With tame content, and thou possess’d of thine?', 'Great as thou art, and like a god in fight,', 'Think not to rob me of a soldier’s right.', 'At thy demand shall I restore the maid?', 'First let the just equivalent be paid;', 'Such as a king might ask; and let it be', 'A treasure worthy her, and worthy me.']\n"
     ]
    }
   ],
   "source": [
    "iliad_lines = iliad_1.splitlines()\n",
    "\n",
    "print(iliad_lines)"
   ]
  },
  {
   "cell_type": "code",
   "execution_count": 9,
   "metadata": {},
   "outputs": [],
   "source": [
    "for index  in range(len(iliad_lines)):\n",
    "    with open(f\"./iliad_{index}.txt\", \"w\") as f:\n",
    "        f.write(iliad_lines[index])"
   ]
  },
  {
   "cell_type": "code",
   "execution_count": 14,
   "metadata": {},
   "outputs": [],
   "source": [
    "from pathlib import Path\n",
    "\n",
    "out_dir = Path(\"my_files\")\n",
    "\n",
    "outfile = out_dir / Path(\"all_lines.txt\")"
   ]
  },
  {
   "cell_type": "code",
   "execution_count": 15,
   "metadata": {},
   "outputs": [
    {
     "ename": "NameError",
     "evalue": "name 'iliad_files' is not defined",
     "output_type": "error",
     "traceback": [
      "\u001b[0;31m---------------------------------------------------------------------------\u001b[0m",
      "\u001b[0;31mNameError\u001b[0m                                 Traceback (most recent call last)",
      "Cell \u001b[0;32mIn[15], line 2\u001b[0m\n\u001b[1;32m      1\u001b[0m \u001b[38;5;28;01mfor\u001b[39;00m iliad_file \u001b[38;5;129;01min\u001b[39;00m Path(\u001b[38;5;124m\"\u001b[39m\u001b[38;5;124m.\u001b[39m\u001b[38;5;124m\"\u001b[39m)\u001b[38;5;241m.\u001b[39mglob(\u001b[38;5;124m\"\u001b[39m\u001b[38;5;124miliad_*.txt\u001b[39m\u001b[38;5;124m\"\u001b[39m):\n\u001b[0;32m----> 2\u001b[0m     \u001b[38;5;28mprint\u001b[39m(\u001b[43miliad_files\u001b[49m)\n",
      "\u001b[0;31mNameError\u001b[0m: name 'iliad_files' is not defined"
     ]
    }
   ],
   "source": [
    "for iliad_file in Path(\".\").glob(\"iliad_*.txt\"):\n",
    "    print(iliad_files)\n"
   ]
  },
  {
   "cell_type": "code",
   "execution_count": 16,
   "metadata": {},
   "outputs": [],
   "source": [
    "with open(outfile, \"a\") as a:\n",
    "    for iliad_file in Path(\".\").glob(\"iliad_*.txt\"):\n",
    "        with open(iliad_file, \"r\") as f:\n",
    "            a.write(f.read() + \"\\n\")"
   ]
  }
 ],
 "metadata": {
  "kernelspec": {
   "display_name": "Python 3",
   "language": "python",
   "name": "python3"
  },
  "language_info": {
   "codemirror_mode": {
    "name": "ipython",
    "version": 3
   },
   "file_extension": ".py",
   "mimetype": "text/x-python",
   "name": "python",
   "nbconvert_exporter": "python",
   "pygments_lexer": "ipython3",
   "version": "3.12.1"
  }
 },
 "nbformat": 4,
 "nbformat_minor": 2
}
